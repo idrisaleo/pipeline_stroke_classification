{
 "cells": [
  {
   "cell_type": "code",
   "execution_count": 19,
   "id": "37523146",
   "metadata": {},
   "outputs": [
    {
     "data": {
      "text/plain": [
       "0.9197651663405088"
      ]
     },
     "execution_count": 19,
     "metadata": {},
     "output_type": "execute_result"
    }
   ],
   "source": [
    "import pandas as pd\n",
    "import numpy as np\n",
    "\n",
    "from sklearn.ensemble import RandomForestClassifier\n",
    "from sklearn.preprocessing import OneHotEncoder\n",
    "from sklearn.compose import ColumnTransformer\n",
    "from sklearn.impute import SimpleImputer\n",
    "from sklearn.model_selection import train_test_split, GridSearchCV\n",
    "from sklearn.pipeline import Pipeline\n",
    "\n",
    "\n",
    "np.random.seed(0)\n",
    "\n",
    "## get the data\n",
    "\n",
    "data = pd.read_csv('healthcare-dataset-stroke-data.csv')\n",
    "data.isna().sum()\n",
    "data.rename(columns=str.lower, inplace=True)\n",
    "\n",
    "## get the features that need finetuning\n",
    "features = ['gender', 'ever_married', 'work_type', 'residence_type', 'smoking_status']\n",
    "features_transform = Pipeline(steps=[\n",
    "    ('onehot', OneHotEncoder(handle_unknown='ignore'))\n",
    "])\n",
    "\n",
    "\n",
    "bmi = ['bmi']\n",
    "bmi_transform = Pipeline(steps=[\n",
    "    ('imputer', SimpleImputer(strategy='mean'))])\n",
    "\n",
    "## get a columntransformer and transform all those features that need finetuning, save it as preprocessor\n",
    "preprocessor = ColumnTransformer(transformers=[\n",
    "    ('feat', features_transform, features),\n",
    "    ('bmi', bmi_transform, bmi)])\n",
    "\n",
    "## stitch all these together with the model\n",
    "\n",
    "model = Pipeline(steps=[('preprocessor', preprocessor), \n",
    "                        ('model', RandomForestClassifier())])\n",
    "\n",
    "## split ur data\n",
    "\n",
    "X = data.drop('stroke', axis=1)\n",
    "y = data['stroke']\n",
    "\n",
    "X_train, X_test, y_train, y_test = train_test_split(X, y, test_size=0.2)\n",
    "\n",
    "\n",
    "## fit the model\n",
    "\n",
    "model.fit(X_train, y_train)\n",
    "model.score(X_test, y_test)\n",
    "\n",
    "\n"
   ]
  },
  {
   "cell_type": "code",
   "execution_count": 20,
   "id": "cab4b5ea",
   "metadata": {},
   "outputs": [
    {
     "name": "stdout",
     "output_type": "stream",
     "text": [
      "Fitting 3 folds for each of 16 candidates, totalling 48 fits\n",
      "[CV] END model__max_depth=None, model__max_features=auto, model__min_samples_leaf=1, model__min_samples_split=2, model__n_estimators=100, preprocessor__bmi__imputer__strategy=mean; total time=   0.5s\n",
      "[CV] END model__max_depth=None, model__max_features=auto, model__min_samples_leaf=1, model__min_samples_split=2, model__n_estimators=100, preprocessor__bmi__imputer__strategy=mean; total time=   0.4s\n",
      "[CV] END model__max_depth=None, model__max_features=auto, model__min_samples_leaf=1, model__min_samples_split=2, model__n_estimators=100, preprocessor__bmi__imputer__strategy=mean; total time=   0.4s\n",
      "[CV] END model__max_depth=None, model__max_features=auto, model__min_samples_leaf=1, model__min_samples_split=2, model__n_estimators=100, preprocessor__bmi__imputer__strategy=median; total time=   0.5s\n",
      "[CV] END model__max_depth=None, model__max_features=auto, model__min_samples_leaf=1, model__min_samples_split=2, model__n_estimators=100, preprocessor__bmi__imputer__strategy=median; total time=   0.5s\n",
      "[CV] END model__max_depth=None, model__max_features=auto, model__min_samples_leaf=1, model__min_samples_split=2, model__n_estimators=100, preprocessor__bmi__imputer__strategy=median; total time=   0.5s\n",
      "[CV] END model__max_depth=None, model__max_features=auto, model__min_samples_leaf=1, model__min_samples_split=2, model__n_estimators=1000, preprocessor__bmi__imputer__strategy=mean; total time=   5.1s\n",
      "[CV] END model__max_depth=None, model__max_features=auto, model__min_samples_leaf=1, model__min_samples_split=2, model__n_estimators=1000, preprocessor__bmi__imputer__strategy=mean; total time=   4.7s\n",
      "[CV] END model__max_depth=None, model__max_features=auto, model__min_samples_leaf=1, model__min_samples_split=2, model__n_estimators=1000, preprocessor__bmi__imputer__strategy=mean; total time=   4.7s\n",
      "[CV] END model__max_depth=None, model__max_features=auto, model__min_samples_leaf=1, model__min_samples_split=2, model__n_estimators=1000, preprocessor__bmi__imputer__strategy=median; total time=   5.1s\n",
      "[CV] END model__max_depth=None, model__max_features=auto, model__min_samples_leaf=1, model__min_samples_split=2, model__n_estimators=1000, preprocessor__bmi__imputer__strategy=median; total time=   4.8s\n",
      "[CV] END model__max_depth=None, model__max_features=auto, model__min_samples_leaf=1, model__min_samples_split=2, model__n_estimators=1000, preprocessor__bmi__imputer__strategy=median; total time=   5.9s\n",
      "[CV] END model__max_depth=None, model__max_features=auto, model__min_samples_leaf=1, model__min_samples_split=4, model__n_estimators=100, preprocessor__bmi__imputer__strategy=mean; total time=   0.4s\n",
      "[CV] END model__max_depth=None, model__max_features=auto, model__min_samples_leaf=1, model__min_samples_split=4, model__n_estimators=100, preprocessor__bmi__imputer__strategy=mean; total time=   0.4s\n",
      "[CV] END model__max_depth=None, model__max_features=auto, model__min_samples_leaf=1, model__min_samples_split=4, model__n_estimators=100, preprocessor__bmi__imputer__strategy=mean; total time=   0.4s\n",
      "[CV] END model__max_depth=None, model__max_features=auto, model__min_samples_leaf=1, model__min_samples_split=4, model__n_estimators=100, preprocessor__bmi__imputer__strategy=median; total time=   0.4s\n",
      "[CV] END model__max_depth=None, model__max_features=auto, model__min_samples_leaf=1, model__min_samples_split=4, model__n_estimators=100, preprocessor__bmi__imputer__strategy=median; total time=   0.4s\n",
      "[CV] END model__max_depth=None, model__max_features=auto, model__min_samples_leaf=1, model__min_samples_split=4, model__n_estimators=100, preprocessor__bmi__imputer__strategy=median; total time=   0.4s\n",
      "[CV] END model__max_depth=None, model__max_features=auto, model__min_samples_leaf=1, model__min_samples_split=4, model__n_estimators=1000, preprocessor__bmi__imputer__strategy=mean; total time=   4.8s\n",
      "[CV] END model__max_depth=None, model__max_features=auto, model__min_samples_leaf=1, model__min_samples_split=4, model__n_estimators=1000, preprocessor__bmi__imputer__strategy=mean; total time=   5.0s\n",
      "[CV] END model__max_depth=None, model__max_features=auto, model__min_samples_leaf=1, model__min_samples_split=4, model__n_estimators=1000, preprocessor__bmi__imputer__strategy=mean; total time=   4.6s\n",
      "[CV] END model__max_depth=None, model__max_features=auto, model__min_samples_leaf=1, model__min_samples_split=4, model__n_estimators=1000, preprocessor__bmi__imputer__strategy=median; total time=   5.2s\n",
      "[CV] END model__max_depth=None, model__max_features=auto, model__min_samples_leaf=1, model__min_samples_split=4, model__n_estimators=1000, preprocessor__bmi__imputer__strategy=median; total time=   4.8s\n",
      "[CV] END model__max_depth=None, model__max_features=auto, model__min_samples_leaf=1, model__min_samples_split=4, model__n_estimators=1000, preprocessor__bmi__imputer__strategy=median; total time=   5.0s\n",
      "[CV] END model__max_depth=5, model__max_features=auto, model__min_samples_leaf=1, model__min_samples_split=2, model__n_estimators=100, preprocessor__bmi__imputer__strategy=mean; total time=   0.3s\n",
      "[CV] END model__max_depth=5, model__max_features=auto, model__min_samples_leaf=1, model__min_samples_split=2, model__n_estimators=100, preprocessor__bmi__imputer__strategy=mean; total time=   0.4s\n",
      "[CV] END model__max_depth=5, model__max_features=auto, model__min_samples_leaf=1, model__min_samples_split=2, model__n_estimators=100, preprocessor__bmi__imputer__strategy=mean; total time=   0.3s\n",
      "[CV] END model__max_depth=5, model__max_features=auto, model__min_samples_leaf=1, model__min_samples_split=2, model__n_estimators=100, preprocessor__bmi__imputer__strategy=median; total time=   0.3s\n",
      "[CV] END model__max_depth=5, model__max_features=auto, model__min_samples_leaf=1, model__min_samples_split=2, model__n_estimators=100, preprocessor__bmi__imputer__strategy=median; total time=   0.3s\n",
      "[CV] END model__max_depth=5, model__max_features=auto, model__min_samples_leaf=1, model__min_samples_split=2, model__n_estimators=100, preprocessor__bmi__imputer__strategy=median; total time=   0.3s\n",
      "[CV] END model__max_depth=5, model__max_features=auto, model__min_samples_leaf=1, model__min_samples_split=2, model__n_estimators=1000, preprocessor__bmi__imputer__strategy=mean; total time=   3.8s\n",
      "[CV] END model__max_depth=5, model__max_features=auto, model__min_samples_leaf=1, model__min_samples_split=2, model__n_estimators=1000, preprocessor__bmi__imputer__strategy=mean; total time=   4.2s\n",
      "[CV] END model__max_depth=5, model__max_features=auto, model__min_samples_leaf=1, model__min_samples_split=2, model__n_estimators=1000, preprocessor__bmi__imputer__strategy=mean; total time=   3.7s\n",
      "[CV] END model__max_depth=5, model__max_features=auto, model__min_samples_leaf=1, model__min_samples_split=2, model__n_estimators=1000, preprocessor__bmi__imputer__strategy=median; total time=   3.9s\n",
      "[CV] END model__max_depth=5, model__max_features=auto, model__min_samples_leaf=1, model__min_samples_split=2, model__n_estimators=1000, preprocessor__bmi__imputer__strategy=median; total time=   4.0s\n",
      "[CV] END model__max_depth=5, model__max_features=auto, model__min_samples_leaf=1, model__min_samples_split=2, model__n_estimators=1000, preprocessor__bmi__imputer__strategy=median; total time=   3.9s\n",
      "[CV] END model__max_depth=5, model__max_features=auto, model__min_samples_leaf=1, model__min_samples_split=4, model__n_estimators=100, preprocessor__bmi__imputer__strategy=mean; total time=   0.6s\n",
      "[CV] END model__max_depth=5, model__max_features=auto, model__min_samples_leaf=1, model__min_samples_split=4, model__n_estimators=100, preprocessor__bmi__imputer__strategy=mean; total time=   0.4s\n",
      "[CV] END model__max_depth=5, model__max_features=auto, model__min_samples_leaf=1, model__min_samples_split=4, model__n_estimators=100, preprocessor__bmi__imputer__strategy=mean; total time=   0.5s\n",
      "[CV] END model__max_depth=5, model__max_features=auto, model__min_samples_leaf=1, model__min_samples_split=4, model__n_estimators=100, preprocessor__bmi__imputer__strategy=median; total time=   0.4s\n",
      "[CV] END model__max_depth=5, model__max_features=auto, model__min_samples_leaf=1, model__min_samples_split=4, model__n_estimators=100, preprocessor__bmi__imputer__strategy=median; total time=   0.4s\n"
     ]
    },
    {
     "name": "stdout",
     "output_type": "stream",
     "text": [
      "[CV] END model__max_depth=5, model__max_features=auto, model__min_samples_leaf=1, model__min_samples_split=4, model__n_estimators=100, preprocessor__bmi__imputer__strategy=median; total time=   0.4s\n",
      "[CV] END model__max_depth=5, model__max_features=auto, model__min_samples_leaf=1, model__min_samples_split=4, model__n_estimators=1000, preprocessor__bmi__imputer__strategy=mean; total time=   5.2s\n",
      "[CV] END model__max_depth=5, model__max_features=auto, model__min_samples_leaf=1, model__min_samples_split=4, model__n_estimators=1000, preprocessor__bmi__imputer__strategy=mean; total time=   3.8s\n",
      "[CV] END model__max_depth=5, model__max_features=auto, model__min_samples_leaf=1, model__min_samples_split=4, model__n_estimators=1000, preprocessor__bmi__imputer__strategy=mean; total time=   3.9s\n",
      "[CV] END model__max_depth=5, model__max_features=auto, model__min_samples_leaf=1, model__min_samples_split=4, model__n_estimators=1000, preprocessor__bmi__imputer__strategy=median; total time=   3.8s\n",
      "[CV] END model__max_depth=5, model__max_features=auto, model__min_samples_leaf=1, model__min_samples_split=4, model__n_estimators=1000, preprocessor__bmi__imputer__strategy=median; total time=   3.9s\n",
      "[CV] END model__max_depth=5, model__max_features=auto, model__min_samples_leaf=1, model__min_samples_split=4, model__n_estimators=1000, preprocessor__bmi__imputer__strategy=median; total time=   4.0s\n"
     ]
    },
    {
     "data": {
      "text/plain": [
       "GridSearchCV(cv=3,\n",
       "             estimator=Pipeline(steps=[('preprocessor',\n",
       "                                        ColumnTransformer(transformers=[('feat',\n",
       "                                                                         Pipeline(steps=[('onehot',\n",
       "                                                                                          OneHotEncoder(handle_unknown='ignore'))]),\n",
       "                                                                         ['gender',\n",
       "                                                                          'ever_married',\n",
       "                                                                          'work_type',\n",
       "                                                                          'residence_type',\n",
       "                                                                          'smoking_status']),\n",
       "                                                                        ('bmi',\n",
       "                                                                         Pipeline(steps=[('imputer',\n",
       "                                                                                          SimpleImputer())]),\n",
       "                                                                         ['bmi'])])),\n",
       "                                       ('model', RandomForestClassifier())]),\n",
       "             param_grid={'model__max_depth': [None, 5],\n",
       "                         'model__max_features': ['auto'],\n",
       "                         'model__min_samples_leaf': [1],\n",
       "                         'model__min_samples_split': [2, 4],\n",
       "                         'model__n_estimators': [100, 1000],\n",
       "                         'preprocessor__bmi__imputer__strategy': ['mean',\n",
       "                                                                  'median']},\n",
       "             verbose=2)"
      ]
     },
     "execution_count": 20,
     "metadata": {},
     "output_type": "execute_result"
    }
   ],
   "source": [
    "pipe_grid = {'preprocessor__bmi__imputer__strategy': ['mean', 'median'],\n",
    "             'model__n_estimators': [100, 1000],\n",
    "             'model__max_depth': [None, 5],\n",
    "             'model__max_features': ['auto'],\n",
    "             'model__min_samples_split': [2, 4],\n",
    "             'model__min_samples_leaf': [1]}\n",
    "\n",
    "gs_model = GridSearchCV(model, pipe_grid, cv=3, verbose=2)\n",
    "gs_model.fit(X_train, y_train)"
   ]
  },
  {
   "cell_type": "code",
   "execution_count": null,
   "id": "5fb087d3",
   "metadata": {},
   "outputs": [],
   "source": []
  }
 ],
 "metadata": {
  "kernelspec": {
   "display_name": "Python 3 (ipykernel)",
   "language": "python",
   "name": "python3"
  },
  "language_info": {
   "codemirror_mode": {
    "name": "ipython",
    "version": 3
   },
   "file_extension": ".py",
   "mimetype": "text/x-python",
   "name": "python",
   "nbconvert_exporter": "python",
   "pygments_lexer": "ipython3",
   "version": "3.9.12"
  }
 },
 "nbformat": 4,
 "nbformat_minor": 5
}
